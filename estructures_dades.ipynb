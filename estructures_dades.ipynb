{
 "cells": [
  {
   "cell_type": "code",
   "execution_count": 2,
   "id": "0b7e3ffa",
   "metadata": {},
   "outputs": [],
   "source": [
    "import numpy as np"
   ]
  },
  {
   "cell_type": "markdown",
   "id": "6b84a7ee",
   "metadata": {},
   "source": [
    "#**S02 T01**#"
   ]
  },
  {
   "cell_type": "markdown",
   "id": "f9008cbc",
   "metadata": {},
   "source": [
    "##*Exercice 1*##"
   ]
  },
  {
   "cell_type": "code",
   "execution_count": 12,
   "id": "470a0a30",
   "metadata": {},
   "outputs": [
    {
     "name": "stdout",
     "output_type": "stream",
     "text": [
      "[['january', 'february', 'march'], ['april', 'may', 'june'], ['july', 'august', 'september'], ['october', 'november', 'december']]\n"
     ]
    }
   ],
   "source": [
    "firstT = [\"january\", \"february\", \"march\"]\n",
    "secondT = [\"april\", \"may\", \"june\"]\n",
    "thirdT = [\"july\", \"august\", \"september\"]\n",
    "fourthT = [\"october\", \"november\", \"december\"]\n",
    "\n",
    "months = [firstT, secondT, thirdT, fourthT]\n",
    "print(months)"
   ]
  },
  {
   "cell_type": "markdown",
   "id": "946838cd",
   "metadata": {},
   "source": [
    "##*Exercice 2*##"
   ]
  },
  {
   "cell_type": "code",
   "execution_count": 9,
   "id": "a4362d37",
   "metadata": {},
   "outputs": [
    {
     "name": "stdout",
     "output_type": "stream",
     "text": [
      "february\n"
     ]
    }
   ],
   "source": [
    "print(firstT[1])"
   ]
  },
  {
   "cell_type": "code",
   "execution_count": 10,
   "id": "a7b04c87",
   "metadata": {},
   "outputs": [
    {
     "name": "stdout",
     "output_type": "stream",
     "text": [
      "['january', 'february', 'march']\n"
     ]
    }
   ],
   "source": [
    "print(firstT)"
   ]
  },
  {
   "cell_type": "code",
   "execution_count": 14,
   "id": "42dee2a5",
   "metadata": {},
   "outputs": [
    {
     "name": "stdout",
     "output_type": "stream",
     "text": [
      "september, october\n"
     ]
    }
   ],
   "source": [
    "print(thirdT[2] + \", \" + fourthT[0] )"
   ]
  },
  {
   "cell_type": "markdown",
   "id": "cb2b4986",
   "metadata": {},
   "source": [
    "##*Exercice 3*##"
   ]
  },
  {
   "cell_type": "code",
   "execution_count": 15,
   "id": "b667d698",
   "metadata": {},
   "outputs": [],
   "source": [
    "numList = [2,5,3,6,9,1,4,8,7]"
   ]
  },
  {
   "cell_type": "code",
   "execution_count": 23,
   "id": "dadfd96b",
   "metadata": {},
   "outputs": [
    {
     "name": "stdout",
     "output_type": "stream",
     "text": [
      "There are 9 numbers in the list.\n"
     ]
    }
   ],
   "source": [
    "print(\"There are \" + str(len(numList)) + \" numbers in the list.\")"
   ]
  },
  {
   "cell_type": "code",
   "execution_count": 25,
   "id": "044b992f",
   "metadata": {},
   "outputs": [
    {
     "name": "stdout",
     "output_type": "stream",
     "text": [
      "Number 3 is 1 times in the list.\n"
     ]
    }
   ],
   "source": [
    "count_3 = numList.count(3)\n",
    "print(\"Number 3 is \" + str(count_3) + \" times in the list.\")"
   ]
  },
  {
   "cell_type": "code",
   "execution_count": 27,
   "id": "ca37bf78",
   "metadata": {},
   "outputs": [
    {
     "name": "stdout",
     "output_type": "stream",
     "text": [
      "Number 3 and 4 are 2 times in total in the list.\n"
     ]
    }
   ],
   "source": [
    "count_4 = numList.count(4)\n",
    "count_total = count_3 + count_4\n",
    "print(\"Number 3 and 4 are \" + str(count_total) + \" times in total in the list.\")"
   ]
  },
  {
   "cell_type": "code",
   "execution_count": 29,
   "id": "034ab0c2",
   "metadata": {},
   "outputs": [
    {
     "name": "stdout",
     "output_type": "stream",
     "text": [
      "Largest element in the list is: 9\n"
     ]
    }
   ],
   "source": [
    "print(\"Largest element in the list is:\", max(numList))"
   ]
  },
  {
   "cell_type": "code",
   "execution_count": 35,
   "id": "d23e4745",
   "metadata": {},
   "outputs": [
    {
     "name": "stdout",
     "output_type": "stream",
     "text": [
      "The 3 smallest numbers in the given list are 1, 2 and 3.\n"
     ]
    }
   ],
   "source": [
    "numList.sort()\n",
    "\n",
    "print (\"The 3 smallest numbers in the given list are \"+ str(numList[0]) + \", \" + str(numList[1]) + \" and \" + str(numList[2]) + \".\")"
   ]
  },
  {
   "cell_type": "code",
   "execution_count": 41,
   "id": "f7dc32a1",
   "metadata": {},
   "outputs": [
    {
     "name": "stdout",
     "output_type": "stream",
     "text": [
      "The range of the list is 8.\n"
     ]
    }
   ],
   "source": [
    "listRange = max(numList) - min(numList)\n",
    "print (\"The range of the list is \" + str(listRange) + \".\")"
   ]
  },
  {
   "cell_type": "markdown",
   "id": "95dd80f2",
   "metadata": {},
   "source": [
    "##*Exercice 4*##"
   ]
  },
  {
   "cell_type": "code",
   "execution_count": 47,
   "id": "0a124530",
   "metadata": {},
   "outputs": [],
   "source": [
    "shoppingList = { \"Apples\" : {\"Qty\": 5, \"€\": 0.42}, \"Pears\" : {\"Qty\": 3, \"€\": 0.66} }"
   ]
  },
  {
   "cell_type": "code",
   "execution_count": 48,
   "id": "ebb0ea97",
   "metadata": {},
   "outputs": [
    {
     "name": "stdout",
     "output_type": "stream",
     "text": [
      "{'Apples': {'Qty': 5, '€': 0.42}, 'Pears': {'Qty': 3, '€': 0.66}, 'Oranges': {'Qty': 4, '€': 0.75}}\n"
     ]
    }
   ],
   "source": [
    "shoppingList[\"Oranges\"] = {\"Qty\": 4, \"€\": 0.75}\n",
    "print(shoppingList)"
   ]
  },
  {
   "cell_type": "code",
   "execution_count": 55,
   "id": "526ce106",
   "metadata": {},
   "outputs": [
    {
     "name": "stdout",
     "output_type": "stream",
     "text": [
      "The total amount of the pears is 1.98€.\n"
     ]
    }
   ],
   "source": [
    "print(\"The total amount of the pears is \" + str(shoppingList[\"Pears\"][\"Qty\"]*shoppingList[\"Pears\"][\"€\"]) + \"€.\")"
   ]
  },
  {
   "cell_type": "code",
   "execution_count": 61,
   "id": "d7775c04",
   "metadata": {},
   "outputs": [
    {
     "name": "stdout",
     "output_type": "stream",
     "text": [
      "The total of fruits bought is 3.\n"
     ]
    }
   ],
   "source": [
    "print(\"The total of fruits bought is \" + str(len(shoppingList.keys())) + \".\")"
   ]
  },
  {
   "cell_type": "code",
   "execution_count": 71,
   "id": "751525f3",
   "metadata": {},
   "outputs": [
    {
     "name": "stdout",
     "output_type": "stream",
     "text": [
      "(0.42, 0.66, 0.75)\n"
     ]
    }
   ],
   "source": [
    "priceMaxList = (shoppingList[\"Apples\"][\"€\"], shoppingList[\"Pears\"][\"€\"], shoppingList[\"Oranges\"][\"€\"])\n",
    "print(priceMaxList)"
   ]
  },
  {
   "cell_type": "code",
   "execution_count": 72,
   "id": "b5ddaf43",
   "metadata": {},
   "outputs": [
    {
     "name": "stdout",
     "output_type": "stream",
     "text": [
      "The most expensive fruit is : 0.75\n"
     ]
    }
   ],
   "source": [
    "max_value = max(priceMaxList)\n",
    "print('The most expensive fruit is :', max_value)"
   ]
  },
  {
   "cell_type": "code",
   "execution_count": 83,
   "id": "0dfe67b0",
   "metadata": {},
   "outputs": [
    {
     "name": "stdout",
     "output_type": "stream",
     "text": [
      "The most expensive fruit is Oranges.\n"
     ]
    }
   ],
   "source": [
    "price=0\n",
    "for item in shoppingList:\n",
    "    if (shoppingList[item][\"€\"] > price):\n",
    "        expensiveFruit = item\n",
    "print(\"The most expensive fruit is \" + expensiveFruit + \".\")"
   ]
  }
 ],
 "metadata": {
  "kernelspec": {
   "display_name": "Python 3 (ipykernel)",
   "language": "python",
   "name": "python3"
  },
  "language_info": {
   "codemirror_mode": {
    "name": "ipython",
    "version": 3
   },
   "file_extension": ".py",
   "mimetype": "text/x-python",
   "name": "python",
   "nbconvert_exporter": "python",
   "pygments_lexer": "ipython3",
   "version": "3.9.7"
  }
 },
 "nbformat": 4,
 "nbformat_minor": 5
}
